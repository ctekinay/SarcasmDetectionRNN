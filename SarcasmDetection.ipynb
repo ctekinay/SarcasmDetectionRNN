{
 "cells": [
  {
   "cell_type": "markdown",
   "id": "4d16d19b-4b51-4978-b4dc-4c70df327010",
   "metadata": {},
   "source": [
    "## TensorFlow Ntbk"
   ]
  },
  {
   "cell_type": "code",
   "execution_count": 59,
   "id": "53dd6692-d9f0-47ad-a4c6-18c7bdd75f4a",
   "metadata": {},
   "outputs": [],
   "source": [
    "import json\n",
    "import tensorflow as tf\n",
    "\n",
    "from tensorflow.keras.preprocessing.text import Tokenizer\n",
    "from tensorflow.keras.preprocessing.sequence import pad_sequences"
   ]
  },
  {
   "cell_type": "code",
   "execution_count": 60,
   "id": "a84bf516-9057-4065-b7ea-b17157ad3efa",
   "metadata": {},
   "outputs": [],
   "source": [
    "vocab_size = 10000\n",
    "embedding_dim = 16\n",
    "max_length = 100\n",
    "trunc_type='post'\n",
    "padding_type='post'\n",
    "oov_tok = \"<OOV>\"\n",
    "training_size = 20000"
   ]
  },
  {
   "cell_type": "code",
   "execution_count": 61,
   "id": "7a745a66-64cd-407f-bb87-ecdce8cd745f",
   "metadata": {},
   "outputs": [],
   "source": [
    "datastore = []\n",
    "with open(\"Sarcasm.json\", \"r\") as f:\n",
    "    lines = f.readlines()\n",
    "    for items in lines:\n",
    "        items.replace(\"'\",\"\")              # this is to replace \" ' \" with \"\"\n",
    "        items.replace(\"/n\",\"\")          # this is to replace \"/n\" with \"\"\n",
    "        obj = json.loads(items)\n",
    "        datastore.append(obj)"
   ]
  },
  {
   "cell_type": "code",
   "execution_count": 62,
   "id": "1f16efac-c730-4a9b-a4a2-85d0878dbc06",
   "metadata": {},
   "outputs": [
    {
     "name": "stdout",
     "output_type": "stream",
     "text": [
      "[{'is_sarcastic': 0, 'headline': 'dem rep. totally nails why congress is falling short on gender, racial equality', 'article_link': 'https://www.huffingtonpost.com/entry/donna-edwards-inequality_us_57455f7fe4b055bb1170b207'}, {'is_sarcastic': 0, 'headline': 'eat your veggies: 9 deliciously different recipes', 'article_link': 'https://www.huffingtonpost.com/entry/eat-your-veggies-9-delici_b_8899742.html'}]\n"
     ]
    }
   ],
   "source": [
    "print(data[1:3])"
   ]
  },
  {
   "cell_type": "code",
   "execution_count": 63,
   "id": "3856a964-66c3-4e17-8427-7195f97b98e7",
   "metadata": {},
   "outputs": [],
   "source": [
    "sentences = []\n",
    "labels = []\n",
    "urls = []\n",
    "for item in datastore:\n",
    "    sentences.append(item['headline'])\n",
    "    labels.append(item['is_sarcastic'])\n",
    "    urls.append(item['article_link'])"
   ]
  },
  {
   "cell_type": "code",
   "execution_count": 64,
   "id": "e246db92-8216-451c-a006-1314ac667ca9",
   "metadata": {},
   "outputs": [],
   "source": [
    "training_sentences = sentences[0:training_size]\n",
    "testing_sentences = sentences[training_size:]\n",
    "training_labels = labels[0:training_size]\n",
    "testing_labels = labels[training_size:]"
   ]
  },
  {
   "cell_type": "code",
   "execution_count": 65,
   "id": "78bc2b7f-49e3-48c9-a19d-02d26267c802",
   "metadata": {},
   "outputs": [],
   "source": [
    "tokenizer = Tokenizer(num_words=vocab_size, oov_token=oov_tok)\n",
    "tokenizer.fit_on_texts(training_sentences)\n",
    "\n",
    "word_index = tokenizer.word_index\n",
    "\n",
    "training_sequences = tokenizer.texts_to_sequences(training_sentences)\n",
    "training_padded = pad_sequences(training_sequences, maxlen=max_length, padding=padding_type, truncating=trunc_type)\n",
    "\n",
    "testing_sequences = tokenizer.texts_to_sequences(testing_sentences)\n",
    "testing_padded = pad_sequences(testing_sequences, maxlen=max_length, padding=padding_type, truncating=trunc_type)"
   ]
  },
  {
   "cell_type": "code",
   "execution_count": 66,
   "id": "f649c1fc-05ab-4170-bafd-cd2ed04f7ff9",
   "metadata": {},
   "outputs": [],
   "source": [
    "# Need this block to get it to work with TensorFlow 2.x\n",
    "import numpy as np\n",
    "training_padded = np.array(training_padded)\n",
    "training_labels = np.array(training_labels)\n",
    "testing_padded = np.array(testing_padded)\n",
    "testing_labels = np.array(testing_labels)"
   ]
  },
  {
   "cell_type": "code",
   "execution_count": 67,
   "id": "268820d4-fa6f-4799-b7ee-80bde232a1e3",
   "metadata": {},
   "outputs": [],
   "source": [
    "model = tf.keras.Sequential([\n",
    "    tf.keras.layers.Embedding(vocab_size, embedding_dim, input_length=max_length),\n",
    "    tf.keras.layers.GlobalAveragePooling1D(),\n",
    "    tf.keras.layers.Dense(24, activation='relu'),\n",
    "    tf.keras.layers.Dense(1, activation='sigmoid')\n",
    "])\n",
    "model.compile(loss='binary_crossentropy',optimizer='adam',metrics=['accuracy'])"
   ]
  },
  {
   "cell_type": "code",
   "execution_count": 68,
   "id": "7110335a-0867-469f-b830-f469dac22833",
   "metadata": {},
   "outputs": [
    {
     "name": "stdout",
     "output_type": "stream",
     "text": [
      "Model: \"sequential\"\n",
      "_________________________________________________________________\n",
      " Layer (type)                Output Shape              Param #   \n",
      "=================================================================\n",
      " embedding (Embedding)       (None, 100, 16)           160000    \n",
      "                                                                 \n",
      " global_average_pooling1d (G  (None, 16)               0         \n",
      " lobalAveragePooling1D)                                          \n",
      "                                                                 \n",
      " dense (Dense)               (None, 24)                408       \n",
      "                                                                 \n",
      " dense_1 (Dense)             (None, 1)                 25        \n",
      "                                                                 \n",
      "=================================================================\n",
      "Total params: 160,433\n",
      "Trainable params: 160,433\n",
      "Non-trainable params: 0\n",
      "_________________________________________________________________\n"
     ]
    }
   ],
   "source": [
    "model.summary()"
   ]
  },
  {
   "cell_type": "code",
   "execution_count": 69,
   "id": "f2a1bc48-31f1-46ad-97e4-45966a991c6d",
   "metadata": {},
   "outputs": [
    {
     "name": "stdout",
     "output_type": "stream",
     "text": [
      "Epoch 1/30\n",
      "625/625 - 4s - loss: 0.6430 - accuracy: 0.6475 - val_loss: 0.4964 - val_accuracy: 0.8048 - 4s/epoch - 6ms/step\n",
      "Epoch 2/30\n",
      "625/625 - 3s - loss: 0.3923 - accuracy: 0.8431 - val_loss: 0.3620 - val_accuracy: 0.8458 - 3s/epoch - 6ms/step\n",
      "Epoch 3/30\n",
      "625/625 - 2s - loss: 0.2995 - accuracy: 0.8803 - val_loss: 0.3362 - val_accuracy: 0.8558 - 2s/epoch - 3ms/step\n",
      "Epoch 4/30\n",
      "625/625 - 3s - loss: 0.2502 - accuracy: 0.9025 - val_loss: 0.3443 - val_accuracy: 0.8467 - 3s/epoch - 4ms/step\n",
      "Epoch 5/30\n",
      "625/625 - 1s - loss: 0.2167 - accuracy: 0.9176 - val_loss: 0.3462 - val_accuracy: 0.8467 - 1s/epoch - 2ms/step\n",
      "Epoch 6/30\n",
      "625/625 - 3s - loss: 0.1906 - accuracy: 0.9283 - val_loss: 0.3421 - val_accuracy: 0.8547 - 3s/epoch - 5ms/step\n",
      "Epoch 7/30\n",
      "625/625 - 2s - loss: 0.1681 - accuracy: 0.9390 - val_loss: 0.3600 - val_accuracy: 0.8489 - 2s/epoch - 2ms/step\n",
      "Epoch 8/30\n",
      "625/625 - 1s - loss: 0.1515 - accuracy: 0.9453 - val_loss: 0.3947 - val_accuracy: 0.8379 - 1s/epoch - 2ms/step\n",
      "Epoch 9/30\n",
      "625/625 - 1s - loss: 0.1359 - accuracy: 0.9521 - val_loss: 0.3956 - val_accuracy: 0.8462 - 1s/epoch - 2ms/step\n",
      "Epoch 10/30\n",
      "625/625 - 1s - loss: 0.1241 - accuracy: 0.9560 - val_loss: 0.4240 - val_accuracy: 0.8391 - 1s/epoch - 2ms/step\n",
      "Epoch 11/30\n",
      "625/625 - 2s - loss: 0.1133 - accuracy: 0.9613 - val_loss: 0.4460 - val_accuracy: 0.8369 - 2s/epoch - 3ms/step\n",
      "Epoch 12/30\n",
      "625/625 - 2s - loss: 0.1031 - accuracy: 0.9653 - val_loss: 0.4697 - val_accuracy: 0.8358 - 2s/epoch - 4ms/step\n",
      "Epoch 13/30\n",
      "625/625 - 3s - loss: 0.0936 - accuracy: 0.9694 - val_loss: 0.5223 - val_accuracy: 0.8260 - 3s/epoch - 6ms/step\n",
      "Epoch 14/30\n",
      "625/625 - 4s - loss: 0.0868 - accuracy: 0.9712 - val_loss: 0.5303 - val_accuracy: 0.8307 - 4s/epoch - 6ms/step\n",
      "Epoch 15/30\n",
      "625/625 - 4s - loss: 0.0794 - accuracy: 0.9739 - val_loss: 0.5857 - val_accuracy: 0.8221 - 4s/epoch - 7ms/step\n",
      "Epoch 16/30\n",
      "625/625 - 3s - loss: 0.0722 - accuracy: 0.9768 - val_loss: 0.6005 - val_accuracy: 0.8258 - 3s/epoch - 4ms/step\n",
      "Epoch 17/30\n",
      "625/625 - 1s - loss: 0.0673 - accuracy: 0.9776 - val_loss: 0.6690 - val_accuracy: 0.8200 - 1s/epoch - 2ms/step\n",
      "Epoch 18/30\n",
      "625/625 - 1s - loss: 0.0611 - accuracy: 0.9814 - val_loss: 0.7022 - val_accuracy: 0.8183 - 1s/epoch - 2ms/step\n",
      "Epoch 19/30\n",
      "625/625 - 1s - loss: 0.0571 - accuracy: 0.9829 - val_loss: 0.7108 - val_accuracy: 0.8189 - 1s/epoch - 2ms/step\n",
      "Epoch 20/30\n",
      "625/625 - 1s - loss: 0.0532 - accuracy: 0.9834 - val_loss: 0.7473 - val_accuracy: 0.8173 - 1s/epoch - 2ms/step\n",
      "Epoch 21/30\n",
      "625/625 - 1s - loss: 0.0481 - accuracy: 0.9861 - val_loss: 0.7842 - val_accuracy: 0.8169 - 1s/epoch - 2ms/step\n",
      "Epoch 22/30\n",
      "625/625 - 1s - loss: 0.0454 - accuracy: 0.9870 - val_loss: 0.8283 - val_accuracy: 0.8153 - 1s/epoch - 2ms/step\n",
      "Epoch 23/30\n",
      "625/625 - 2s - loss: 0.0420 - accuracy: 0.9876 - val_loss: 0.8710 - val_accuracy: 0.8144 - 2s/epoch - 4ms/step\n",
      "Epoch 24/30\n",
      "625/625 - 2s - loss: 0.0377 - accuracy: 0.9897 - val_loss: 0.9324 - val_accuracy: 0.8119 - 2s/epoch - 3ms/step\n",
      "Epoch 25/30\n",
      "625/625 - 1s - loss: 0.0377 - accuracy: 0.9889 - val_loss: 0.9454 - val_accuracy: 0.8108 - 1s/epoch - 2ms/step\n",
      "Epoch 26/30\n",
      "625/625 - 2s - loss: 0.0332 - accuracy: 0.9908 - val_loss: 0.9982 - val_accuracy: 0.8098 - 2s/epoch - 3ms/step\n",
      "Epoch 27/30\n",
      "625/625 - 2s - loss: 0.0300 - accuracy: 0.9917 - val_loss: 1.0329 - val_accuracy: 0.8059 - 2s/epoch - 3ms/step\n",
      "Epoch 28/30\n",
      "625/625 - 1s - loss: 0.0288 - accuracy: 0.9916 - val_loss: 1.0953 - val_accuracy: 0.8064 - 1s/epoch - 2ms/step\n",
      "Epoch 29/30\n",
      "625/625 - 2s - loss: 0.0265 - accuracy: 0.9924 - val_loss: 1.1388 - val_accuracy: 0.8040 - 2s/epoch - 3ms/step\n",
      "Epoch 30/30\n",
      "625/625 - 2s - loss: 0.0225 - accuracy: 0.9944 - val_loss: 1.1758 - val_accuracy: 0.8029 - 2s/epoch - 3ms/step\n"
     ]
    }
   ],
   "source": [
    "num_epochs = 30\n",
    "history = model.fit(training_padded, training_labels, epochs=num_epochs, validation_data=(testing_padded, testing_labels), verbose=2)"
   ]
  },
  {
   "cell_type": "code",
   "execution_count": 73,
   "id": "f86eadd8-5c30-45a4-a4fb-9d061a460b44",
   "metadata": {},
   "outputs": [
    {
     "data": {
      "image/png": "[encoded data removed]",
      "text/plain": [
       "<Figure size 640x480 with 1 Axes>"
      ]
     },
     "metadata": {},
     "output_type": "display_data"
    },
    {
     "data": {
      "image/png": "[encoded data removed]",
      "text/plain": [
       "<Figure size 640x480 with 1 Axes>"
      ]
     },
     "metadata": {},
     "output_type": "display_data"
    }
   ],
   "source": [
    "import matplotlib.pyplot as plt\n",
    "\n",
    "\n",
    "def plot_graphs(history, string):\n",
    "  plt.plot(history.history[string])\n",
    "  plt.plot(history.history['val_'+string])\n",
    "  plt.xlabel(\"Epochs\")\n",
    "  plt.ylabel(string)\n",
    "  plt.legend([string, 'val_'+string])\n",
    "  plt.show()\n",
    "  \n",
    "plot_graphs(history, \"accuracy\")\n",
    "plot_graphs(history, \"loss\")"
   ]
  },
  {
   "cell_type": "code",
   "execution_count": 74,
   "id": "0d8e49bf-552c-402a-9853-c9aa77587f64",
   "metadata": {},
   "outputs": [
    {
     "name": "stdout",
     "output_type": "stream",
     "text": [
      "<OOV> scientists unveil doomsday clock of hair loss ? ? ? ? ? ? ? ? ? ? ? ? ? ? ? ? ? ? ? ? ? ? ? ? ? ? ? ? ? ? ? ? ? ? ? ? ? ? ? ? ? ? ? ? ? ? ? ? ? ? ? ? ? ? ? ? ? ? ? ? ? ? ? ? ? ? ? ? ? ? ? ? ? ? ? ? ? ? ? ? ? ? ? ? ? ? ? ? ? ? ? ?\n",
      "eat your veggies: 9 deliciously different recipes\n",
      "0\n"
     ]
    }
   ],
   "source": [
    "reverse_word_index = dict([(value, key) for (key, value) in word_index.items()])\n",
    "\n",
    "def decode_sentence(text):\n",
    "    return ' '.join([reverse_word_index.get(i, '?') for i in text])\n",
    "\n",
    "print(decode_sentence(training_padded[0]))\n",
    "print(training_sentences[2])\n",
    "print(labels[2])"
   ]
  },
  {
   "cell_type": "code",
   "execution_count": 75,
   "id": "add3a4e5-5555-49ee-a4a6-92ad46eadfb3",
   "metadata": {},
   "outputs": [
    {
     "name": "stdout",
     "output_type": "stream",
     "text": [
      "(10000, 16)\n"
     ]
    }
   ],
   "source": [
    "e = model.layers[0]\n",
    "weights = e.get_weights()[0]\n",
    "print(weights.shape) # shape: (vocab_size, embedding_dim)"
   ]
  },
  {
   "cell_type": "code",
   "execution_count": 77,
   "id": "69437d68-5a00-4e34-8868-27c533050ba8",
   "metadata": {},
   "outputs": [],
   "source": [
    "import io\n",
    "\n",
    "out_v = io.open('vecs.tsv', 'w', encoding='utf-8')\n",
    "out_m = io.open('meta.tsv', 'w', encoding='utf-8')\n",
    "for word_num in range(1, vocab_size):\n",
    "  word = reverse_word_index[word_num]\n",
    "  embeddings = weights[word_num]\n",
    "  out_m.write(word + \"\\n\")\n",
    "  out_v.write('\\t'.join([str(x) for x in embeddings]) + \"\\n\")\n",
    "out_v.close()\n",
    "out_m.close()"
   ]
  },
  {
   "cell_type": "code",
   "execution_count": 78,
   "id": "7cd1bb85-a130-4c58-ab99-ec9b5fc9826a",
   "metadata": {},
   "outputs": [],
   "source": [
    "try:\n",
    "  from google.colab import files\n",
    "except ImportError:\n",
    "  pass\n",
    "else:\n",
    "  files.download('vecs.tsv')\n",
    "  files.download('meta.tsv')"
   ]
  },
  {
   "cell_type": "code",
   "execution_count": 79,
   "id": "254cb8d1-29ce-47ed-a9fb-478294e03ecb",
   "metadata": {},
   "outputs": [
    {
     "name": "stdout",
     "output_type": "stream",
     "text": [
      "1/1 [==============================] - 1s 573ms/step\n",
      "[[8.8919771e-01]\n",
      " [1.9601154e-09]]\n"
     ]
    }
   ],
   "source": [
    "sentence = [\"granny starting to fear spiders in the garden might be real\", \"game of thrones season finale showing this sunday night\"]\n",
    "sequences = tokenizer.texts_to_sequences(sentence)\n",
    "padded = pad_sequences(sequences, maxlen=max_length, padding=padding_type, truncating=trunc_type)\n",
    "print(model.predict(padded))"
   ]
  },
  {
   "cell_type": "code",
   "execution_count": null,
   "id": "c6162ada-d95d-4f0b-8c90-3a917196b66b",
   "metadata": {},
   "outputs": [],
   "source": []
  }
 ],
 "metadata": {
  "kernelspec": {
   "display_name": "Python 3 (ipykernel)",
   "language": "python",
   "name": "python3"
  },
  "language_info": {
   "codemirror_mode": {
    "name": "ipython",
    "version": 3
   },
   "file_extension": ".py",
   "mimetype": "text/x-python",
   "name": "python",
   "nbconvert_exporter": "python",
   "pygments_lexer": "ipython3",
   "version": "3.11.5"
  }
 },
 "nbformat": 4,
 "nbformat_minor": 5
}
